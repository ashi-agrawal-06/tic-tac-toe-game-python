{
  "nbformat": 4,
  "nbformat_minor": 0,
  "metadata": {
    "colab": {
      "name": "tictactoe.ipynb",
      "provenance": [],
      "authorship_tag": "ABX9TyPTnDs9ZAJskHdYmwz0Tz/h",
      "include_colab_link": true
    },
    "kernelspec": {
      "name": "python3",
      "display_name": "Python 3"
    }
  },
  "cells": [
    {
      "cell_type": "markdown",
      "metadata": {
        "id": "view-in-github",
        "colab_type": "text"
      },
      "source": [
        "<a href=\"https://colab.research.google.com/github/ashi-agrawal-06/tic-tac-toe-game-python/blob/main/tictactoe.ipynb\" target=\"_parent\"><img src=\"https://colab.research.google.com/assets/colab-badge.svg\" alt=\"Open In Colab\"/></a>"
      ]
    },
    {
      "cell_type": "code",
      "metadata": {
        "id": "yeKVcZoqH7We"
      },
      "source": [
        "import numpy\n",
        "board=numpy.array([['-','-','-'],['-','-','-'],['-','-','-']])\n",
        "p1s='X'\n",
        "p2s='O'\n",
        "\n",
        "def check_rows(symbol):\n",
        "  for r in range(3):\n",
        "    count=0\n",
        "    for c in range(3):\n",
        "      if board[r][c]==symbol:\n",
        "        count=count+1\n",
        "    if count==3:\n",
        "      print(symbol,'won')\n",
        "      return True\n",
        "  return False\n",
        "\n",
        "def check_cols(symbol):\n",
        "  for c in range(3):\n",
        "    count=0\n",
        "    for r in range(3):\n",
        "      if board[r][c]==symbol:\n",
        "        count=count+1\n",
        "    if count==3:\n",
        "      print(symbol,'won')\n",
        "      return True\n",
        "  return False\n",
        "\n",
        "def won(symbol):\n",
        "  return check_rows(symbol) or check_cols(symbol) or check_diagonals(symbol)\n",
        "\n",
        "def place(symbol):\n",
        "  print(numpy.matrix(board))\n",
        "  while(1):\n",
        "    row=int(input('Enter row: 1 or 2 or 3: '))\n",
        "    col=int(input('Enter column: 1 or 2 or 3: '))\n",
        "    if row>0 and row<4 and col>0 and col<4 and board[row-1][col-1]=='-':\n",
        "      break\n",
        "    else:\n",
        "      print('invalid input please enter again')\n",
        "  board[row-1][col-1]=symbol\n",
        "\n",
        "def check_diagonals(symbol):\n",
        "  if board[0][2]==board[1][1] and board[1][1]==board[2][0] and board[1][1]==symbol:\n",
        "    print(symbol,'won')\n",
        "    return True\n",
        "  if board[0][0]==board[1][1] and board[1][1]==board[2][2] and board[1][1]==symbol:\n",
        "    print(symbol,'won')\n",
        "    return True\n",
        "  return False\n",
        "\n",
        "def play():\n",
        "  for turn in range(9):\n",
        "    if turn%2==0:\n",
        "      print('X turn')\n",
        "      place(p1s)\n",
        "      if won(p1s):\n",
        "        break\n",
        "    else:\n",
        "      print('O turn')\n",
        "      place(p2s)\n",
        "      if won(p2s):\n",
        "        break\n",
        "  if not(won(p1s)) and not(won(p2s)):\n",
        "      print('Draw/Tie ')\n"
      ],
      "execution_count": 3,
      "outputs": []
    },
    {
      "cell_type": "code",
      "metadata": {
        "id": "UyDJZDCNzyHN",
        "colab": {
          "base_uri": "https://localhost:8080/"
        },
        "outputId": "7ecf4776-a9d3-4f52-f5b9-07a9296635bb"
      },
      "source": [
        "play()"
      ],
      "execution_count": 4,
      "outputs": [
        {
          "output_type": "stream",
          "text": [
            "X turn\n",
            "[['-' '-' '-']\n",
            " ['-' '-' '-']\n",
            " ['-' '-' '-']]\n",
            "Enter row: 1 or 2 or 3: 1\n",
            "Enter column: 1 or 2 or 3: 1\n",
            "O turn\n",
            "[['X' '-' '-']\n",
            " ['-' '-' '-']\n",
            " ['-' '-' '-']]\n",
            "Enter row: 1 or 2 or 3: 2\n",
            "Enter column: 1 or 2 or 3: 1\n",
            "X turn\n",
            "[['X' '-' '-']\n",
            " ['O' '-' '-']\n",
            " ['-' '-' '-']]\n",
            "Enter row: 1 or 2 or 3: 2\n",
            "Enter column: 1 or 2 or 3: 2\n",
            "O turn\n",
            "[['X' '-' '-']\n",
            " ['O' 'X' '-']\n",
            " ['-' '-' '-']]\n",
            "Enter row: 1 or 2 or 3: 3\n",
            "Enter column: 1 or 2 or 3: 1\n",
            "X turn\n",
            "[['X' '-' '-']\n",
            " ['O' 'X' '-']\n",
            " ['O' '-' '-']]\n",
            "Enter row: 1 or 2 or 3: 3\n",
            "Enter column: 1 or 2 or 3: 3\n",
            "X won\n",
            "X won\n"
          ],
          "name": "stdout"
        }
      ]
    },
    {
      "cell_type": "code",
      "metadata": {
        "id": "MMnvntZ70Q1V"
      },
      "source": [
        ""
      ],
      "execution_count": null,
      "outputs": []
    }
  ]
}